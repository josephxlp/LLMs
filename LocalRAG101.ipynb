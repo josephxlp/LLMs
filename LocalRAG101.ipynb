{
  "nbformat": 4,
  "nbformat_minor": 0,
  "metadata": {
    "colab": {
      "provenance": [],
      "authorship_tag": "ABX9TyN+MGEIT1pnP0Q+1U6iIaVP",
      "include_colab_link": true
    },
    "kernelspec": {
      "name": "python3",
      "display_name": "Python 3"
    },
    "language_info": {
      "name": "python"
    }
  },
  "cells": [
    {
      "cell_type": "markdown",
      "metadata": {
        "id": "view-in-github",
        "colab_type": "text"
      },
      "source": [
        "<a href=\"https://colab.research.google.com/github/josephxlp/LLMs/blob/main/LocalRAG101.ipynb\" target=\"_parent\"><img src=\"https://colab.research.google.com/assets/colab-badge.svg\" alt=\"Open In Colab\"/></a>"
      ]
    },
    {
      "cell_type": "markdown",
      "source": [
        "# LocalRAG101"
      ],
      "metadata": {
        "id": "1TBHEhDDFMWI"
      }
    },
    {
      "cell_type": "code",
      "source": [
        "!pip install gradio -q\n",
        "!pip install langchain_community -q\n",
        "!pip install ollama -q"
      ],
      "metadata": {
        "id": "3H1IieOXFDXl"
      },
      "execution_count": 6,
      "outputs": []
    },
    {
      "cell_type": "code",
      "execution_count": 7,
      "metadata": {
        "colab": {
          "base_uri": "https://localhost:8080/",
          "height": 645
        },
        "id": "DWvSfs0HE9dX",
        "outputId": "79eb9ab1-f7f3-48c6-c6ff-64df8003b5f6"
      },
      "outputs": [
        {
          "output_type": "stream",
          "name": "stdout",
          "text": [
            "Running Gradio in a Colab notebook requires sharing enabled. Automatically setting `share=True` (you can turn this off by setting `share=False` in `launch()` explicitly).\n",
            "\n",
            "Colab notebook detected. To show errors in colab notebook, set debug=True in launch()\n",
            "* Running on public URL: https://278ba0990b65232500.gradio.live\n",
            "\n",
            "This share link expires in 72 hours. For free permanent hosting and GPU upgrades, run `gradio deploy` from the terminal in the working directory to deploy to Hugging Face Spaces (https://huggingface.co/spaces)\n"
          ]
        },
        {
          "output_type": "display_data",
          "data": {
            "text/plain": [
              "<IPython.core.display.HTML object>"
            ],
            "text/html": [
              "<div><iframe src=\"https://278ba0990b65232500.gradio.live\" width=\"100%\" height=\"500\" allow=\"autoplay; camera; microphone; clipboard-read; clipboard-write;\" frameborder=\"0\" allowfullscreen></iframe></div>"
            ]
          },
          "metadata": {}
        },
        {
          "output_type": "execute_result",
          "data": {
            "text/plain": []
          },
          "metadata": {},
          "execution_count": 7
        }
      ],
      "source": [
        "import gradio as gr\n",
        "from langchain_community.document_loaders import PyMuPDFLoader\n",
        "from langchain.text_splitter import RecursiveCharacterTextSplitter\n",
        "from langchain.vectorstores import Chroma\n",
        "from langchain_community.embeddings import OllamaEmbeddings\n",
        "import ollama\n",
        "\n",
        "\n",
        "def process_pdf(pdf_bytes):\n",
        "    if pdf_bytes is None:\n",
        "        return None, None, None\n",
        "\n",
        "    loader = PyMuPDFLoader(pdf_bytes)\n",
        "    data = loader.load()\n",
        "\n",
        "    text_splitter = RecursiveCharacterTextSplitter(\n",
        "        chunk_size=500, chunk_overlap=100\n",
        "    )\n",
        "    chunks = text_splitter.split_documents(data)\n",
        "\n",
        "    model_list = [\"deepseek-r1:1.5b\",\"llama3.2:1b\"]\n",
        "    model_select = model_list[0]\n",
        "\n",
        "    embeddings = OllamaEmbeddings(model=model_select)\n",
        "    vectorstore = Chroma.from_documents(\n",
        "        documents=chunks, embedding=embeddings, persist_directory=\"./chroma_db\"\n",
        "    )\n",
        "    retriever = vectorstore.as_retriever()\n",
        "\n",
        "    return text_splitter, vectorstore, retriever\n",
        "\n",
        "def combine_docs(docs):\n",
        "    return \"\\n\\n\".join(doc.page_content for doc in docs)\n",
        "\n",
        "\n",
        "import re\n",
        "\n",
        "def ollama_llm(question, context):\n",
        "    formatted_prompt = f\"Question: {question}\\n\\nContext: {context}\"\n",
        "\n",
        "    model_list = [\"deepseek-r1:1.5b\",\"llama3.2:1b\"]\n",
        "    model_select = model_list[0]\n",
        "\n",
        "    response = ollama.chat(\n",
        "        model=model_select,\n",
        "        messages=[{\"role\": \"user\", \"content\": formatted_prompt}],\n",
        "    )\n",
        "\n",
        "    response_content = response[\"message\"][\"content\"]\n",
        "\n",
        "    # Remove content between <think> and </think> tags to remove thinking output\n",
        "    final_answer = re.sub(r\"<think>.*?</think>\", \"\", response_content, flags=re.DOTALL).strip()\n",
        "\n",
        "    return final_answer\n",
        "\n",
        "def rag_chain(question, text_splitter, vectorstore, retriever):\n",
        "    retrieved_docs = retriever.invoke(question)\n",
        "    formatted_content = combine_docs(retrieved_docs)\n",
        "    return ollama_llm(question, formatted_content)\n",
        "\n",
        "\n",
        "def ask_question(pdf_bytes, question):\n",
        "    text_splitter, vectorstore, retriever = process_pdf(pdf_bytes)\n",
        "\n",
        "    if text_splitter is None:\n",
        "        return None  # No PDF uploaded\n",
        "\n",
        "    result = rag_chain(question, text_splitter, vectorstore, retriever)\n",
        "    return {result}\n",
        "\n",
        "\n",
        "interface = gr.Interface(\n",
        "    fn=ask_question,\n",
        "    inputs=[\n",
        "        gr.File(label=\"Upload PDF (optional)\"),\n",
        "        gr.Textbox(label=\"Ask a question\"),\n",
        "    ],\n",
        "    outputs=\"text\",\n",
        "    title=\"Ask questions about your PDF\",\n",
        "    description=\"Use DeepSeek-R1 to answer your questions about the uploaded PDF document.\",\n",
        ")\n",
        "\n",
        "interface.launch()"
      ]
    },
    {
      "cell_type": "code",
      "source": [],
      "metadata": {
        "id": "1sLS-cOnFBc2"
      },
      "execution_count": null,
      "outputs": []
    }
  ]
}